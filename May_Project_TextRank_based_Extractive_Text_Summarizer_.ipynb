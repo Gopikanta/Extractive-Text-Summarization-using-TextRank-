{
  "nbformat": 4,
  "nbformat_minor": 0,
  "metadata": {
    "colab": {
      "provenance": [],
      "include_colab_link": true
    },
    "kernelspec": {
      "name": "python3",
      "display_name": "Python 3"
    },
    "language_info": {
      "name": "python"
    }
  },
  "cells": [
    {
      "cell_type": "markdown",
      "metadata": {
        "id": "view-in-github",
        "colab_type": "text"
      },
      "source": [
        "<a href=\"https://colab.research.google.com/github/Gopikanta/Extractive-Text-Summarization-using-TextRank-/blob/main/May_Project_TextRank_based_Extractive_Text_Summarizer_.ipynb\" target=\"_parent\"><img src=\"https://colab.research.google.com/assets/colab-badge.svg\" alt=\"Open In Colab\"/></a>"
      ]
    },
    {
      "cell_type": "markdown",
      "source": [
        "**Importing Required Libraries**\n",
        "\n",
        "- `spacy`: For NLP preprocessing and sentence vectorization.\n",
        "- `numpy`: For numerical operations (e.g., cosine similarity).\n",
        "- `STOP_WORDS`: List of stop words to remove.\n",
        "- `networkx`: To implement the PageRank graph algorithm.\n",
        "- `Counter`: To count word frequencies.\n",
        "- `matplotlib.pyplot`: To plot word frequencies."
      ],
      "metadata": {
        "id": "fuC-fWd1ZO53"
      }
    },
    {
      "cell_type": "code",
      "source": [
        "import spacy\n",
        "import numpy as np\n",
        "from spacy.lang.en.stop_words import STOP_WORDS\n",
        "import networkx as nx\n",
        "from collections import Counter\n",
        "import matplotlib.pyplot as plt\n"
      ],
      "metadata": {
        "id": "y6zNC7QXgr_U"
      },
      "execution_count": null,
      "outputs": []
    },
    {
      "cell_type": "markdown",
      "source": [
        " Function summarizes the given text by selecting the most relevant sentences using the TextRank algorithm."
      ],
      "metadata": {
        "id": "DSEs0lK-Z-x4"
      }
    },
    {
      "cell_type": "code",
      "source": [
        "def extractive_summarize(text, num_sentences=5):\n",
        "    \"\"\"\n",
        "    Generate an extractive summary using the TextRank algorithm\n",
        "\n",
        "    Args:\n",
        "        text (str): The input text to be summarized\n",
        "        num_sentences (int): The number of sentences to include in the summary\n",
        "\n",
        "    Returns:\n",
        "        str: The extractive summary\n",
        "    \"\"\"\n",
        "    # Load the spaCy model\n",
        "    nlp = spacy.load(\"en_core_web_sm\")\n",
        "\n",
        "    # Process the text with spaCy\n",
        "    doc = nlp(text)\n",
        "\n",
        "    # Word frequency analysis\n",
        "    words = [token.text.lower() for token in doc if not token.is_punct and not token.is_space] # - Converts all tokens to lowercase and remove punctuations and spaces\n",
        "    word_freq = Counter(words) # - Counts word frequency.\n",
        "    repeated_words = {word: freq for word, freq in word_freq.items() if freq > 1} # - Extracts only repeated words.\n",
        "\n",
        "    print(\"\\nWord Frequencies (All):\")\n",
        "    print(dict(word_freq))\n",
        "\n",
        "    print(\"\\nRepeated Words (Frequency > 1):\")\n",
        "    print(repeated_words)\n",
        "\n",
        "    # Plot the top 10 repeated words - Uses matplotlib to display a bar chart of the 10 most frequent repeated words.\n",
        "    if repeated_words:\n",
        "        top_words = dict(Counter(repeated_words).most_common(10))\n",
        "        plt.figure(figsize=(10, 5))\n",
        "        plt.bar(top_words.keys(), top_words.values(), color='skyblue')\n",
        "        plt.title(\"Top 10 Repeated Words in Text\")\n",
        "        plt.xlabel(\"Words\")\n",
        "        plt.ylabel(\"Frequency\")\n",
        "        plt.xticks(rotation=45)\n",
        "        plt.tight_layout()\n",
        "        plt.show()\n",
        "\n",
        "    # Extract sentences - Extracts sentences from the input text\n",
        "    sentences = [sent.text.strip() for sent in doc.sents]\n",
        "\n",
        "    # Skip summarization if there are fewer sentences than requested\n",
        "    if len(sentences) <= num_sentences:\n",
        "        return text\n",
        "\n",
        "    # Create sentence embeddings and build similarity matrix\n",
        "    sentence_embeddings = []\n",
        "    for sent in doc.sents:\n",
        "        tokens = [token for token in sent if not token.is_stop and not token.is_punct]\n",
        "        if not tokens:\n",
        "            sent_embedding = sent.vector\n",
        "        else:\n",
        "            sent_embedding = sum(token.vector for token in tokens) / len(tokens)\n",
        "        sentence_embeddings.append(sent_embedding)\n",
        "\n",
        "    # Calculate similarity between sentences\n",
        "    similarity_matrix = np.zeros([len(sentences), len(sentences)])\n",
        "    for i in range(len(sentences)):\n",
        "        for j in range(len(sentences)):\n",
        "            if i != j:\n",
        "                similarity = np.dot(sentence_embeddings[i], sentence_embeddings[j])\n",
        "                similarity /= (np.linalg.norm(sentence_embeddings[i]) *\n",
        "                              np.linalg.norm(sentence_embeddings[j]) + 1e-9)\n",
        "                similarity_matrix[i][j] = similarity\n",
        "\n",
        "    # Apply PageRank algorithm using NetworkX\n",
        "    nx_graph = nx.from_numpy_array(similarity_matrix)\n",
        "    scores = nx.pagerank(nx_graph)\n",
        "\n",
        "    # Get top sentences based on scores\n",
        "    ranked_sentences = sorted(((scores[i], i, s) for i, s in enumerate(sentences)),\n",
        "                             reverse=True)\n",
        "\n",
        "    # Select top n sentences, but keep them in original order\n",
        "    top_sentence_indices = sorted([ranked_sentences[i][1] for i in range(min(num_sentences,\n",
        "                                                                            len(ranked_sentences)))])\n",
        "    summary = \" \".join([sentences[i] for i in top_sentence_indices])\n",
        "\n",
        "    return summary\n",
        "\n"
      ],
      "metadata": {
        "id": "yZcgjEDhu1d_"
      },
      "execution_count": null,
      "outputs": []
    },
    {
      "cell_type": "code",
      "source": [
        "# Example usage\n",
        "if __name__ == \"__main__\":\n",
        "    # Example text\n",
        "    sample_text = \"\"\"\n",
        "    Artificial intelligence (AI) is intelligence demonstrated by machines, as opposed to natural intelligence displayed by animals including humans.\n",
        "    AI research has been defined as the field of study of intelligent agents, which refers to any system that perceives its environment and takes actions that maximize its chance of achieving its goals.\n",
        "    The term \"artificial intelligence\" had previously been used to describe machines that mimic and display \"human\" cognitive skills that are associated with the human mind, such as \"learning\" and \"problem-solving\".\n",
        "    This definition has since been rejected by major AI researchers who now describe AI in terms of rationality and acting rationally, which does not limit how intelligence can be articulated.\n",
        "    AI applications include advanced web search engines, recommendation systems, understanding human speech, self-driving cars, automated decision-making and competing at the highest level in strategic game systems.\n",
        "    As machines become increasingly capable, tasks considered to require \"intelligence\" are often removed from the definition of AI, a phenomenon known as the AI effect.\n",
        "    Deep learning, a form of machine learning based on artificial neural networks, has driven many recent advances in AI.\n",
        "    The goal of artificial general intelligence (AGI) is to create AI systems that can learn and reason broadly like humans, potentially exceeding human capabilities in most economically valuable domains of work.\n",
        "    \"\"\"\n",
        "\n",
        "    # Generate summary\n",
        "    summary = extractive_summarize(sample_text, num_sentences=3)\n",
        "    print(\"\\nOriginal Text Length:\", len(sample_text.split()))\n",
        "    print(\"Summary Length:\", len(summary.split()))\n",
        "    print(\"\\nSUMMARY:\")\n",
        "    print(summary)"
      ],
      "metadata": {
        "colab": {
          "base_uri": "https://localhost:8080/",
          "height": 735
        },
        "id": "j3SG7yZTu6yx",
        "outputId": "840e46c6-4a19-4d2c-809c-6948c300a159"
      },
      "execution_count": null,
      "outputs": [
        {
          "output_type": "stream",
          "name": "stdout",
          "text": [
            "\n",
            "Word Frequencies (All):\n",
            "{'artificial': 4, 'intelligence': 7, 'ai': 9, 'is': 2, 'demonstrated': 1, 'by': 3, 'machines': 3, 'as': 5, 'opposed': 1, 'to': 5, 'natural': 1, 'displayed': 1, 'animals': 1, 'including': 1, 'humans': 2, 'research': 1, 'has': 3, 'been': 3, 'defined': 1, 'the': 7, 'field': 1, 'of': 8, 'study': 1, 'intelligent': 1, 'agents': 1, 'which': 2, 'refers': 1, 'any': 1, 'system': 1, 'that': 5, 'perceives': 1, 'its': 3, 'environment': 1, 'and': 6, 'takes': 1, 'actions': 1, 'maximize': 1, 'chance': 1, 'achieving': 1, 'goals': 1, 'term': 1, 'had': 1, 'previously': 1, 'used': 1, 'describe': 2, 'mimic': 1, 'display': 1, 'human': 4, 'cognitive': 1, 'skills': 1, 'are': 2, 'associated': 1, 'with': 1, 'mind': 1, 'such': 1, 'learning': 3, 'problem': 1, 'solving': 1, 'this': 1, 'definition': 2, 'since': 1, 'rejected': 1, 'major': 1, 'researchers': 1, 'who': 1, 'now': 1, 'in': 4, 'terms': 1, 'rationality': 1, 'acting': 1, 'rationally': 1, 'does': 1, 'not': 1, 'limit': 1, 'how': 1, 'can': 2, 'be': 1, 'articulated': 1, 'applications': 1, 'include': 1, 'advanced': 1, 'web': 1, 'search': 1, 'engines': 1, 'recommendation': 1, 'systems': 3, 'understanding': 1, 'speech': 1, 'self': 1, 'driving': 1, 'cars': 1, 'automated': 1, 'decision': 1, 'making': 1, 'competing': 1, 'at': 1, 'highest': 1, 'level': 1, 'strategic': 1, 'game': 1, 'become': 1, 'increasingly': 1, 'capable': 1, 'tasks': 1, 'considered': 1, 'require': 1, 'often': 1, 'removed': 1, 'from': 1, 'a': 2, 'phenomenon': 1, 'known': 1, 'effect': 1, 'deep': 1, 'form': 1, 'machine': 1, 'based': 1, 'on': 1, 'neural': 1, 'networks': 1, 'driven': 1, 'many': 1, 'recent': 1, 'advances': 1, 'goal': 1, 'general': 1, 'agi': 1, 'create': 1, 'learn': 1, 'reason': 1, 'broadly': 1, 'like': 1, 'potentially': 1, 'exceeding': 1, 'capabilities': 1, 'most': 1, 'economically': 1, 'valuable': 1, 'domains': 1, 'work': 1}\n",
            "\n",
            "Repeated Words (Frequency > 1):\n",
            "{'artificial': 4, 'intelligence': 7, 'ai': 9, 'is': 2, 'by': 3, 'machines': 3, 'as': 5, 'to': 5, 'humans': 2, 'has': 3, 'been': 3, 'the': 7, 'of': 8, 'which': 2, 'that': 5, 'its': 3, 'and': 6, 'describe': 2, 'human': 4, 'are': 2, 'learning': 3, 'definition': 2, 'in': 4, 'can': 2, 'systems': 3, 'a': 2}\n"
          ]
        },
        {
          "output_type": "display_data",
          "data": {
            "text/plain": [
              "<Figure size 1000x500 with 1 Axes>"
            ],
            "image/png": "[encoded data removed]"
          },
          "metadata": {}
        },
        {
          "output_type": "stream",
          "name": "stdout",
          "text": [
            "\n",
            "Original Text Length: 212\n",
            "Summary Length: 74\n",
            "\n",
            "SUMMARY:\n",
            "Artificial intelligence (AI) is intelligence demonstrated by machines, as opposed to natural intelligence displayed by animals including humans. As machines become increasingly capable, tasks considered to require \"intelligence\" are often removed from the definition of AI, a phenomenon known as the AI effect. The goal of artificial general intelligence (AGI) is to create AI systems that can learn and reason broadly like humans, potentially exceeding human capabilities in most economically valuable domains of work.\n"
          ]
        }
      ]
    }
  ]
}